{
  "nbformat": 4,
  "nbformat_minor": 0,
  "metadata": {
    "colab": {
      "provenance": [],
      "authorship_tag": "ABX9TyMY3WZ1qY2V9h3oJKz4V2AU",
      "include_colab_link": true
    },
    "kernelspec": {
      "name": "python3",
      "display_name": "Python 3"
    },
    "language_info": {
      "name": "python"
    }
  },
  "cells": [
    {
      "cell_type": "markdown",
      "metadata": {
        "id": "view-in-github",
        "colab_type": "text"
      },
      "source": [
        "<a href=\"https://colab.research.google.com/github/Thealansan/Examen1/blob/main/lastmile_delivery_operations_mit_lift_lab.ipynb\" target=\"_parent\"><img src=\"https://colab.research.google.com/assets/colab-badge.svg\" alt=\"Open In Colab\"/></a>"
      ]
    },
    {
      "cell_type": "code",
      "execution_count": 2,
      "metadata": {
        "id": "IahzZn-qM2iz"
      },
      "outputs": [],
      "source": [
        "#Importamos las librerias que necesitamos para que funcione el código \n",
        "import pandas as pd\n",
        "import numpy as np\n",
        "import matplotlib.pyplot as plt"
      ]
    },
    {
      "cell_type": "code",
      "source": [
        "#Cargar aechivos csv desde equipo \n",
        "from google.colab import files \n",
        "files.upload()"
      ],
      "metadata": {
        "id": "qvcC0SlmNIJ8"
      },
      "execution_count": null,
      "outputs": []
    },
    {
      "cell_type": "code",
      "source": [
        "#Carga desde un archivo .xlsx sin indice\n",
        "data= pd.read_csv('lastmile_delivery_operations_mit_lift_lab.csv')\n",
        "data"
      ],
      "metadata": {
        "id": "eadzUPbANNFQ"
      },
      "execution_count": null,
      "outputs": []
    },
    {
      "cell_type": "code",
      "source": [
        "#Vemos cuales son los valores nulos que tenmos por columna \n",
        "valores_nulos=data.isnull().sum() \n",
        "valores_nulos"
      ],
      "metadata": {
        "id": "JcEkTa9_NXMm"
      },
      "execution_count": null,
      "outputs": []
    },
    {
      "cell_type": "markdown",
      "source": [
        "**Usamos métodos de sustitución para reducir nulos**"
      ],
      "metadata": {
        "id": "tQ5EWgK4NjOW"
      }
    },
    {
      "cell_type": "code",
      "source": [
        "#Hacemos una copia del data que ya tenemos para trabajar sobre esta \n",
        "data1=data.copy()\n",
        "data1"
      ],
      "metadata": {
        "id": "yJCfNrQlNoza"
      },
      "execution_count": null,
      "outputs": []
    },
    {
      "cell_type": "code",
      "source": [
        "#Sustituir valores nulos por valore no nulos hacia adelante \"forward fill\" (\"bfill\")\n",
        "#Filtro por columnas\n",
        "data1[\"plates\"]=data1[\"plates\"].fillna(method=\"bfill\")"
      ],
      "metadata": {
        "id": "zY6pJBqqN2_2"
      },
      "execution_count": 7,
      "outputs": []
    },
    {
      "cell_type": "code",
      "source": [
        "#Corroboramos valores nulos\n",
        "valores_nulos=data1.isnull().sum()\n",
        "valores_nulos"
      ],
      "metadata": {
        "id": "EJZD2invOAAG"
      },
      "execution_count": null,
      "outputs": []
    },
    {
      "cell_type": "code",
      "source": [
        "#Sustituir valores nulos por valore no nulos hacia adelante \"forward fill\" (\"bfill\")\n",
        "#Filtro por columnas\n",
        "data1[\"_title\"]=data1[\"_title\"].fillna(method=\"bfill\")"
      ],
      "metadata": {
        "id": "jvVRmCcEOG9K"
      },
      "execution_count": 9,
      "outputs": []
    },
    {
      "cell_type": "code",
      "source": [
        "#Corroboramos valores nulos\n",
        "valores_nulos=data1.isnull().sum()\n",
        "valores_nulos"
      ],
      "metadata": {
        "colab": {
          "base_uri": "https://localhost:8080/"
        },
        "id": "4PnmgmOqOMMm",
        "outputId": "80178195-d814-48f2-98a0-32b12caa97eb"
      },
      "execution_count": 10,
      "outputs": [
        {
          "output_type": "execute_result",
          "data": {
            "text/plain": [
              "_record_id                                         0\n",
              "_title                                             0\n",
              "_server_updated_at                                 0\n",
              "_updated_by                                        0\n",
              "_geometry                                          0\n",
              "_latitude                                          0\n",
              "_longitude                                         0\n",
              "arrival_of_the_freight_vehicle                     0\n",
              "plates                                             0\n",
              "company_if_visible                                73\n",
              "visit_purpose                                      0\n",
              "type_of_vehicle                                    0\n",
              "number_of_operators                                0\n",
              "refrigerated_truck                                 0\n",
              "type_of_cargo                                      0\n",
              "picture_of_the_parked_freight_vehicle              0\n",
              "departure_of_the_freight_vehicle                   0\n",
              "where_was_the_vehicle_parked                       0\n",
              "while_parked_was_the_engine_running                0\n",
              "used_traffic_cone                                  0\n",
              "vehicles_unloading_door                            0\n",
              "number_of_available_trolleys                       0\n",
              "serving_customer                                 147\n",
              "garage_blocking                                    0\n",
              "accident                                           0\n",
              "describe_the_accident                            182\n",
              "noise                                              0\n",
              "traffic_congestion                                 0\n",
              "maximum_number_of_vehicles_in_the_traffic_jam    180\n",
              "dtype: int64"
            ]
          },
          "metadata": {},
          "execution_count": 10
        }
      ]
    },
    {
      "cell_type": "code",
      "source": [
        "#Sustituir valores nulos por valore no nulos hacia adelante \"forward fill\" (\"bfill\")\n",
        "#Filtro por columnas\n",
        "data1[\"company_if_visible\"]=data1[\"company_if_visible\"].fillna(method=\"bfill\")"
      ],
      "metadata": {
        "id": "3FVx7ig1O1_Y"
      },
      "execution_count": 11,
      "outputs": []
    },
    {
      "cell_type": "code",
      "source": [
        "#Corroboramos valores nulos\n",
        "valores_nulos=data1.isnull().sum()\n",
        "valores_nulos"
      ],
      "metadata": {
        "colab": {
          "base_uri": "https://localhost:8080/"
        },
        "id": "q4pf5DycO-qp",
        "outputId": "49b02360-c81b-45e1-c46e-4ea8c73c65ea"
      },
      "execution_count": 12,
      "outputs": [
        {
          "output_type": "execute_result",
          "data": {
            "text/plain": [
              "_record_id                                         0\n",
              "_title                                             0\n",
              "_server_updated_at                                 0\n",
              "_updated_by                                        0\n",
              "_geometry                                          0\n",
              "_latitude                                          0\n",
              "_longitude                                         0\n",
              "arrival_of_the_freight_vehicle                     0\n",
              "plates                                             0\n",
              "company_if_visible                                 0\n",
              "visit_purpose                                      0\n",
              "type_of_vehicle                                    0\n",
              "number_of_operators                                0\n",
              "refrigerated_truck                                 0\n",
              "type_of_cargo                                      0\n",
              "picture_of_the_parked_freight_vehicle              0\n",
              "departure_of_the_freight_vehicle                   0\n",
              "where_was_the_vehicle_parked                       0\n",
              "while_parked_was_the_engine_running                0\n",
              "used_traffic_cone                                  0\n",
              "vehicles_unloading_door                            0\n",
              "number_of_available_trolleys                       0\n",
              "serving_customer                                 147\n",
              "garage_blocking                                    0\n",
              "accident                                           0\n",
              "describe_the_accident                            182\n",
              "noise                                              0\n",
              "traffic_congestion                                 0\n",
              "maximum_number_of_vehicles_in_the_traffic_jam    180\n",
              "dtype: int64"
            ]
          },
          "metadata": {},
          "execution_count": 12
        }
      ]
    },
    {
      "cell_type": "code",
      "source": [
        "#Sustituir valores nulos por valore no nulos hacia adelante \"forward fill\" (\"ffill\")\n",
        "#Filtro por columnas\n",
        "data1[\"serving_customer\"]=data1[\"serving_customer\"].fillna(method=\"ffill\")"
      ],
      "metadata": {
        "id": "NUcTVRKTPBtk"
      },
      "execution_count": 13,
      "outputs": []
    },
    {
      "cell_type": "code",
      "source": [
        "#Corroboramos valores nulos\n",
        "valores_nulos=data1.isnull().sum()\n",
        "valores_nulos"
      ],
      "metadata": {
        "colab": {
          "base_uri": "https://localhost:8080/"
        },
        "id": "j2GX0-ihPZNP",
        "outputId": "ae31db52-9a67-4e5b-fcf2-061acf5e5233"
      },
      "execution_count": 14,
      "outputs": [
        {
          "output_type": "execute_result",
          "data": {
            "text/plain": [
              "_record_id                                         0\n",
              "_title                                             0\n",
              "_server_updated_at                                 0\n",
              "_updated_by                                        0\n",
              "_geometry                                          0\n",
              "_latitude                                          0\n",
              "_longitude                                         0\n",
              "arrival_of_the_freight_vehicle                     0\n",
              "plates                                             0\n",
              "company_if_visible                                 0\n",
              "visit_purpose                                      0\n",
              "type_of_vehicle                                    0\n",
              "number_of_operators                                0\n",
              "refrigerated_truck                                 0\n",
              "type_of_cargo                                      0\n",
              "picture_of_the_parked_freight_vehicle              0\n",
              "departure_of_the_freight_vehicle                   0\n",
              "where_was_the_vehicle_parked                       0\n",
              "while_parked_was_the_engine_running                0\n",
              "used_traffic_cone                                  0\n",
              "vehicles_unloading_door                            0\n",
              "number_of_available_trolleys                       0\n",
              "serving_customer                                   2\n",
              "garage_blocking                                    0\n",
              "accident                                           0\n",
              "describe_the_accident                            182\n",
              "noise                                              0\n",
              "traffic_congestion                                 0\n",
              "maximum_number_of_vehicles_in_the_traffic_jam    180\n",
              "dtype: int64"
            ]
          },
          "metadata": {},
          "execution_count": 14
        }
      ]
    },
    {
      "cell_type": "code",
      "source": [
        "#Sustituir valores nulos por un valo númerico en concreto \n",
        "data1[\"describe_the_accident\"]=data1[\"describe_the_accident\"].fillna(10)\n",
        "data1"
      ],
      "metadata": {
        "colab": {
          "base_uri": "https://localhost:8080/",
          "height": 991
        },
        "id": "S_b699oGPBnT",
        "outputId": "1f0ec52f-fd1d-4074-cb40-62e92944fe54"
      },
      "execution_count": 15,
      "outputs": [
        {
          "output_type": "execute_result",
          "data": {
            "text/plain": [
              "                               _record_id  \\\n",
              "0    4408a234-9585-46fe-9b16-96c0faaf6db8   \n",
              "1    673cd0e3-7290-4c4d-a57f-096d16b78141   \n",
              "2    04e64464-3fbd-4ce1-99d8-5364e1567e8c   \n",
              "3    d0a6568d-cf8f-48fd-ad3d-007e79f4ae6b   \n",
              "4    eff15823-b1f2-4e82-afb2-2195635d1406   \n",
              "..                                    ...   \n",
              "177  f964004e-67a0-4b75-b2b0-ce04b9f0b344   \n",
              "178  5656a189-19f5-45a7-b53b-1a3db0de6571   \n",
              "179  bcbd462b-4c63-490b-bfec-0ef6657ead73   \n",
              "180  cd9ba76d-d899-4d87-9512-486aedb1b149   \n",
              "181  657541f6-7871-4165-80b2-bef59db83e18   \n",
              "\n",
              "                                                _title  \\\n",
              "0    73 Calle Almolonga\\nPuebla de Zaragoza PUE 721...   \n",
              "1    72 Calle Almolonga\\nPuebla de Zaragoza PUE 721...   \n",
              "2    4510 Vía Volkswagen\\nHeroica Puebla de Zaragoz...   \n",
              "3    4501A Avenida 2 Poniente\\nHeroica Puebla de Za...   \n",
              "4    4717 Avenida Reforma\\nHeroica Puebla de Zarago...   \n",
              "..                                                 ...   \n",
              "177      406-B Avenida 2 Oriente\\nPuebla PUE 72000\\nMX   \n",
              "178      406-B Avenida 2 Oriente\\nPuebla PUE 72000\\nMX   \n",
              "179      406-B Avenida 2 Oriente\\nPuebla PUE 72000\\nMX   \n",
              "180       402E Avenida 2 Oriente\\nPuebla PUE 72000\\nMX   \n",
              "181        402 Avenida 2 Oriente\\nPuebla PUE 72000\\nMX   \n",
              "\n",
              "          _server_updated_at                   _updated_by  \\\n",
              "0    2022-11-12 22:15:04 UTC          Salomon Abdala Perez   \n",
              "1    2022-11-12 20:41:39 UTC  Jorge Alberto Ostorga Flores   \n",
              "2    2022-11-12 18:02:57 UTC   Juan Carlos Bejarano Moreno   \n",
              "3    2022-11-12 17:55:44 UTC   Luis Gerardo Ramírez Lastra   \n",
              "4    2022-11-12 17:55:44 UTC   Luis Gerardo Ramírez Lastra   \n",
              "..                       ...                           ...   \n",
              "177  2022-11-03 17:54:56 UTC                  José Oropeza   \n",
              "178  2022-11-03 17:54:56 UTC                  José Oropeza   \n",
              "179  2022-11-03 17:54:44 UTC                  Emilio Garza   \n",
              "180  2022-11-03 17:14:09 UTC                  Emilio Garza   \n",
              "181  2022-11-03 17:14:09 UTC                  Emilio Garza   \n",
              "\n",
              "                                         _geometry  _latitude  _longitude  \\\n",
              "0    SRID=4326;POINT(-98.2334894708 19.0568933787)  19.056893  -98.233489   \n",
              "1     SRID=4326;POINT(-98.233483903 19.0568494313)  19.056849  -98.233484   \n",
              "2          SRID=4326;POINT(-98.2339161 19.0596775)  19.059677  -98.233916   \n",
              "3          SRID=4326;POINT(-98.2285674 19.0626948)  19.062695  -98.228567   \n",
              "4           SRID=4326;POINT(-98.231397 19.0627239)  19.062724  -98.231397   \n",
              "..                                             ...        ...         ...   \n",
              "177    SRID=4326;POINT(-98.194933077 19.043612116)  19.043612  -98.194933   \n",
              "178  SRID=4326;POINT(-98.1948560508 19.0436070826)  19.043607  -98.194856   \n",
              "179   SRID=4326;POINT(-98.1945033093 19.043335537)  19.043336  -98.194503   \n",
              "180  SRID=4326;POINT(-98.1948728731 19.0435760418)  19.043576  -98.194873   \n",
              "181   SRID=4326;POINT(-98.1949010531 19.043589516)  19.043590  -98.194901   \n",
              "\n",
              "    arrival_of_the_freight_vehicle     plates company_if_visible  ...  \\\n",
              "0                            14:00  KB-7050-A           Ricolino  ...   \n",
              "1                            13:50    XC8687A           Marinela  ...   \n",
              "2                            11:47   SM 20745            La fete  ...   \n",
              "3                            11:45    SP35169             Barcel  ...   \n",
              "4                            11:41    SN89460    Agua inmaculada  ...   \n",
              "..                             ...        ...                ...  ...   \n",
              "177                          10:36  HL-3785-F              Infra  ...   \n",
              "178                          10:33  SP-29-798              Infra  ...   \n",
              "179                          11:19   05-AP-6G              Infra  ...   \n",
              "180                          11:03  LE-88-707            Alpura   ...   \n",
              "181                          11:00  HL-3785-F              Bimbo  ...   \n",
              "\n",
              "    used_traffic_cone vehicles_unloading_door  number_of_available_trolleys  \\\n",
              "0                  no                    Side                             1   \n",
              "1                  no                    Rear                             1   \n",
              "2                  no                    Side                             0   \n",
              "3                  no                    Rear                             2   \n",
              "4                  no                    Rear                             2   \n",
              "..                ...                     ...                           ...   \n",
              "177                no                    Rear                             0   \n",
              "178                no                    Side                             0   \n",
              "179                no                    Rear                             1   \n",
              "180                no                    Rear                             0   \n",
              "181                no                    Rear                             1   \n",
              "\n",
              "    serving_customer garage_blocking accident describe_the_accident noise  \\\n",
              "0                NaN             yes       no                  10.0    no   \n",
              "1                NaN              no       no                  10.0    no   \n",
              "2                1.0              no       no                  10.0    no   \n",
              "3                1.0             yes       no                  10.0    no   \n",
              "4                1.0              no       no                  10.0    no   \n",
              "..               ...             ...      ...                   ...   ...   \n",
              "177              1.0              no       no                  10.0    no   \n",
              "178              1.0              no       no                  10.0    no   \n",
              "179              1.0              no       no                  10.0    no   \n",
              "180              1.0              no       no                  10.0    no   \n",
              "181              1.0              no       no                  10.0    no   \n",
              "\n",
              "    traffic_congestion maximum_number_of_vehicles_in_the_traffic_jam  \n",
              "0                   no                                           NaN  \n",
              "1                   no                                           NaN  \n",
              "2                   no                                           NaN  \n",
              "3                   no                                           NaN  \n",
              "4                   no                                           NaN  \n",
              "..                 ...                                           ...  \n",
              "177                 no                                           NaN  \n",
              "178                 no                                           NaN  \n",
              "179                 no                                           NaN  \n",
              "180                 no                                           NaN  \n",
              "181                 no                                           NaN  \n",
              "\n",
              "[182 rows x 29 columns]"
            ],
            "text/html": [
              "\n",
              "  <div id=\"df-25b25426-1a28-4540-bd6f-0ae329020b8a\">\n",
              "    <div class=\"colab-df-container\">\n",
              "      <div>\n",
              "<style scoped>\n",
              "    .dataframe tbody tr th:only-of-type {\n",
              "        vertical-align: middle;\n",
              "    }\n",
              "\n",
              "    .dataframe tbody tr th {\n",
              "        vertical-align: top;\n",
              "    }\n",
              "\n",
              "    .dataframe thead th {\n",
              "        text-align: right;\n",
              "    }\n",
              "</style>\n",
              "<table border=\"1\" class=\"dataframe\">\n",
              "  <thead>\n",
              "    <tr style=\"text-align: right;\">\n",
              "      <th></th>\n",
              "      <th>_record_id</th>\n",
              "      <th>_title</th>\n",
              "      <th>_server_updated_at</th>\n",
              "      <th>_updated_by</th>\n",
              "      <th>_geometry</th>\n",
              "      <th>_latitude</th>\n",
              "      <th>_longitude</th>\n",
              "      <th>arrival_of_the_freight_vehicle</th>\n",
              "      <th>plates</th>\n",
              "      <th>company_if_visible</th>\n",
              "      <th>...</th>\n",
              "      <th>used_traffic_cone</th>\n",
              "      <th>vehicles_unloading_door</th>\n",
              "      <th>number_of_available_trolleys</th>\n",
              "      <th>serving_customer</th>\n",
              "      <th>garage_blocking</th>\n",
              "      <th>accident</th>\n",
              "      <th>describe_the_accident</th>\n",
              "      <th>noise</th>\n",
              "      <th>traffic_congestion</th>\n",
              "      <th>maximum_number_of_vehicles_in_the_traffic_jam</th>\n",
              "    </tr>\n",
              "  </thead>\n",
              "  <tbody>\n",
              "    <tr>\n",
              "      <th>0</th>\n",
              "      <td>4408a234-9585-46fe-9b16-96c0faaf6db8</td>\n",
              "      <td>73 Calle Almolonga\\nPuebla de Zaragoza PUE 721...</td>\n",
              "      <td>2022-11-12 22:15:04 UTC</td>\n",
              "      <td>Salomon Abdala Perez</td>\n",
              "      <td>SRID=4326;POINT(-98.2334894708 19.0568933787)</td>\n",
              "      <td>19.056893</td>\n",
              "      <td>-98.233489</td>\n",
              "      <td>14:00</td>\n",
              "      <td>KB-7050-A</td>\n",
              "      <td>Ricolino</td>\n",
              "      <td>...</td>\n",
              "      <td>no</td>\n",
              "      <td>Side</td>\n",
              "      <td>1</td>\n",
              "      <td>NaN</td>\n",
              "      <td>yes</td>\n",
              "      <td>no</td>\n",
              "      <td>10.0</td>\n",
              "      <td>no</td>\n",
              "      <td>no</td>\n",
              "      <td>NaN</td>\n",
              "    </tr>\n",
              "    <tr>\n",
              "      <th>1</th>\n",
              "      <td>673cd0e3-7290-4c4d-a57f-096d16b78141</td>\n",
              "      <td>72 Calle Almolonga\\nPuebla de Zaragoza PUE 721...</td>\n",
              "      <td>2022-11-12 20:41:39 UTC</td>\n",
              "      <td>Jorge Alberto Ostorga Flores</td>\n",
              "      <td>SRID=4326;POINT(-98.233483903 19.0568494313)</td>\n",
              "      <td>19.056849</td>\n",
              "      <td>-98.233484</td>\n",
              "      <td>13:50</td>\n",
              "      <td>XC8687A</td>\n",
              "      <td>Marinela</td>\n",
              "      <td>...</td>\n",
              "      <td>no</td>\n",
              "      <td>Rear</td>\n",
              "      <td>1</td>\n",
              "      <td>NaN</td>\n",
              "      <td>no</td>\n",
              "      <td>no</td>\n",
              "      <td>10.0</td>\n",
              "      <td>no</td>\n",
              "      <td>no</td>\n",
              "      <td>NaN</td>\n",
              "    </tr>\n",
              "    <tr>\n",
              "      <th>2</th>\n",
              "      <td>04e64464-3fbd-4ce1-99d8-5364e1567e8c</td>\n",
              "      <td>4510 Vía Volkswagen\\nHeroica Puebla de Zaragoz...</td>\n",
              "      <td>2022-11-12 18:02:57 UTC</td>\n",
              "      <td>Juan Carlos Bejarano Moreno</td>\n",
              "      <td>SRID=4326;POINT(-98.2339161 19.0596775)</td>\n",
              "      <td>19.059677</td>\n",
              "      <td>-98.233916</td>\n",
              "      <td>11:47</td>\n",
              "      <td>SM 20745</td>\n",
              "      <td>La fete</td>\n",
              "      <td>...</td>\n",
              "      <td>no</td>\n",
              "      <td>Side</td>\n",
              "      <td>0</td>\n",
              "      <td>1.0</td>\n",
              "      <td>no</td>\n",
              "      <td>no</td>\n",
              "      <td>10.0</td>\n",
              "      <td>no</td>\n",
              "      <td>no</td>\n",
              "      <td>NaN</td>\n",
              "    </tr>\n",
              "    <tr>\n",
              "      <th>3</th>\n",
              "      <td>d0a6568d-cf8f-48fd-ad3d-007e79f4ae6b</td>\n",
              "      <td>4501A Avenida 2 Poniente\\nHeroica Puebla de Za...</td>\n",
              "      <td>2022-11-12 17:55:44 UTC</td>\n",
              "      <td>Luis Gerardo Ramírez Lastra</td>\n",
              "      <td>SRID=4326;POINT(-98.2285674 19.0626948)</td>\n",
              "      <td>19.062695</td>\n",
              "      <td>-98.228567</td>\n",
              "      <td>11:45</td>\n",
              "      <td>SP35169</td>\n",
              "      <td>Barcel</td>\n",
              "      <td>...</td>\n",
              "      <td>no</td>\n",
              "      <td>Rear</td>\n",
              "      <td>2</td>\n",
              "      <td>1.0</td>\n",
              "      <td>yes</td>\n",
              "      <td>no</td>\n",
              "      <td>10.0</td>\n",
              "      <td>no</td>\n",
              "      <td>no</td>\n",
              "      <td>NaN</td>\n",
              "    </tr>\n",
              "    <tr>\n",
              "      <th>4</th>\n",
              "      <td>eff15823-b1f2-4e82-afb2-2195635d1406</td>\n",
              "      <td>4717 Avenida Reforma\\nHeroica Puebla de Zarago...</td>\n",
              "      <td>2022-11-12 17:55:44 UTC</td>\n",
              "      <td>Luis Gerardo Ramírez Lastra</td>\n",
              "      <td>SRID=4326;POINT(-98.231397 19.0627239)</td>\n",
              "      <td>19.062724</td>\n",
              "      <td>-98.231397</td>\n",
              "      <td>11:41</td>\n",
              "      <td>SN89460</td>\n",
              "      <td>Agua inmaculada</td>\n",
              "      <td>...</td>\n",
              "      <td>no</td>\n",
              "      <td>Rear</td>\n",
              "      <td>2</td>\n",
              "      <td>1.0</td>\n",
              "      <td>no</td>\n",
              "      <td>no</td>\n",
              "      <td>10.0</td>\n",
              "      <td>no</td>\n",
              "      <td>no</td>\n",
              "      <td>NaN</td>\n",
              "    </tr>\n",
              "    <tr>\n",
              "      <th>...</th>\n",
              "      <td>...</td>\n",
              "      <td>...</td>\n",
              "      <td>...</td>\n",
              "      <td>...</td>\n",
              "      <td>...</td>\n",
              "      <td>...</td>\n",
              "      <td>...</td>\n",
              "      <td>...</td>\n",
              "      <td>...</td>\n",
              "      <td>...</td>\n",
              "      <td>...</td>\n",
              "      <td>...</td>\n",
              "      <td>...</td>\n",
              "      <td>...</td>\n",
              "      <td>...</td>\n",
              "      <td>...</td>\n",
              "      <td>...</td>\n",
              "      <td>...</td>\n",
              "      <td>...</td>\n",
              "      <td>...</td>\n",
              "      <td>...</td>\n",
              "    </tr>\n",
              "    <tr>\n",
              "      <th>177</th>\n",
              "      <td>f964004e-67a0-4b75-b2b0-ce04b9f0b344</td>\n",
              "      <td>406-B Avenida 2 Oriente\\nPuebla PUE 72000\\nMX</td>\n",
              "      <td>2022-11-03 17:54:56 UTC</td>\n",
              "      <td>José Oropeza</td>\n",
              "      <td>SRID=4326;POINT(-98.194933077 19.043612116)</td>\n",
              "      <td>19.043612</td>\n",
              "      <td>-98.194933</td>\n",
              "      <td>10:36</td>\n",
              "      <td>HL-3785-F</td>\n",
              "      <td>Infra</td>\n",
              "      <td>...</td>\n",
              "      <td>no</td>\n",
              "      <td>Rear</td>\n",
              "      <td>0</td>\n",
              "      <td>1.0</td>\n",
              "      <td>no</td>\n",
              "      <td>no</td>\n",
              "      <td>10.0</td>\n",
              "      <td>no</td>\n",
              "      <td>no</td>\n",
              "      <td>NaN</td>\n",
              "    </tr>\n",
              "    <tr>\n",
              "      <th>178</th>\n",
              "      <td>5656a189-19f5-45a7-b53b-1a3db0de6571</td>\n",
              "      <td>406-B Avenida 2 Oriente\\nPuebla PUE 72000\\nMX</td>\n",
              "      <td>2022-11-03 17:54:56 UTC</td>\n",
              "      <td>José Oropeza</td>\n",
              "      <td>SRID=4326;POINT(-98.1948560508 19.0436070826)</td>\n",
              "      <td>19.043607</td>\n",
              "      <td>-98.194856</td>\n",
              "      <td>10:33</td>\n",
              "      <td>SP-29-798</td>\n",
              "      <td>Infra</td>\n",
              "      <td>...</td>\n",
              "      <td>no</td>\n",
              "      <td>Side</td>\n",
              "      <td>0</td>\n",
              "      <td>1.0</td>\n",
              "      <td>no</td>\n",
              "      <td>no</td>\n",
              "      <td>10.0</td>\n",
              "      <td>no</td>\n",
              "      <td>no</td>\n",
              "      <td>NaN</td>\n",
              "    </tr>\n",
              "    <tr>\n",
              "      <th>179</th>\n",
              "      <td>bcbd462b-4c63-490b-bfec-0ef6657ead73</td>\n",
              "      <td>406-B Avenida 2 Oriente\\nPuebla PUE 72000\\nMX</td>\n",
              "      <td>2022-11-03 17:54:44 UTC</td>\n",
              "      <td>Emilio Garza</td>\n",
              "      <td>SRID=4326;POINT(-98.1945033093 19.043335537)</td>\n",
              "      <td>19.043336</td>\n",
              "      <td>-98.194503</td>\n",
              "      <td>11:19</td>\n",
              "      <td>05-AP-6G</td>\n",
              "      <td>Infra</td>\n",
              "      <td>...</td>\n",
              "      <td>no</td>\n",
              "      <td>Rear</td>\n",
              "      <td>1</td>\n",
              "      <td>1.0</td>\n",
              "      <td>no</td>\n",
              "      <td>no</td>\n",
              "      <td>10.0</td>\n",
              "      <td>no</td>\n",
              "      <td>no</td>\n",
              "      <td>NaN</td>\n",
              "    </tr>\n",
              "    <tr>\n",
              "      <th>180</th>\n",
              "      <td>cd9ba76d-d899-4d87-9512-486aedb1b149</td>\n",
              "      <td>402E Avenida 2 Oriente\\nPuebla PUE 72000\\nMX</td>\n",
              "      <td>2022-11-03 17:14:09 UTC</td>\n",
              "      <td>Emilio Garza</td>\n",
              "      <td>SRID=4326;POINT(-98.1948728731 19.0435760418)</td>\n",
              "      <td>19.043576</td>\n",
              "      <td>-98.194873</td>\n",
              "      <td>11:03</td>\n",
              "      <td>LE-88-707</td>\n",
              "      <td>Alpura</td>\n",
              "      <td>...</td>\n",
              "      <td>no</td>\n",
              "      <td>Rear</td>\n",
              "      <td>0</td>\n",
              "      <td>1.0</td>\n",
              "      <td>no</td>\n",
              "      <td>no</td>\n",
              "      <td>10.0</td>\n",
              "      <td>no</td>\n",
              "      <td>no</td>\n",
              "      <td>NaN</td>\n",
              "    </tr>\n",
              "    <tr>\n",
              "      <th>181</th>\n",
              "      <td>657541f6-7871-4165-80b2-bef59db83e18</td>\n",
              "      <td>402 Avenida 2 Oriente\\nPuebla PUE 72000\\nMX</td>\n",
              "      <td>2022-11-03 17:14:09 UTC</td>\n",
              "      <td>Emilio Garza</td>\n",
              "      <td>SRID=4326;POINT(-98.1949010531 19.043589516)</td>\n",
              "      <td>19.043590</td>\n",
              "      <td>-98.194901</td>\n",
              "      <td>11:00</td>\n",
              "      <td>HL-3785-F</td>\n",
              "      <td>Bimbo</td>\n",
              "      <td>...</td>\n",
              "      <td>no</td>\n",
              "      <td>Rear</td>\n",
              "      <td>1</td>\n",
              "      <td>1.0</td>\n",
              "      <td>no</td>\n",
              "      <td>no</td>\n",
              "      <td>10.0</td>\n",
              "      <td>no</td>\n",
              "      <td>no</td>\n",
              "      <td>NaN</td>\n",
              "    </tr>\n",
              "  </tbody>\n",
              "</table>\n",
              "<p>182 rows × 29 columns</p>\n",
              "</div>\n",
              "      <button class=\"colab-df-convert\" onclick=\"convertToInteractive('df-25b25426-1a28-4540-bd6f-0ae329020b8a')\"\n",
              "              title=\"Convert this dataframe to an interactive table.\"\n",
              "              style=\"display:none;\">\n",
              "        \n",
              "  <svg xmlns=\"http://www.w3.org/2000/svg\" height=\"24px\"viewBox=\"0 0 24 24\"\n",
              "       width=\"24px\">\n",
              "    <path d=\"M0 0h24v24H0V0z\" fill=\"none\"/>\n",
              "    <path d=\"M18.56 5.44l.94 2.06.94-2.06 2.06-.94-2.06-.94-.94-2.06-.94 2.06-2.06.94zm-11 1L8.5 8.5l.94-2.06 2.06-.94-2.06-.94L8.5 2.5l-.94 2.06-2.06.94zm10 10l.94 2.06.94-2.06 2.06-.94-2.06-.94-.94-2.06-.94 2.06-2.06.94z\"/><path d=\"M17.41 7.96l-1.37-1.37c-.4-.4-.92-.59-1.43-.59-.52 0-1.04.2-1.43.59L10.3 9.45l-7.72 7.72c-.78.78-.78 2.05 0 2.83L4 21.41c.39.39.9.59 1.41.59.51 0 1.02-.2 1.41-.59l7.78-7.78 2.81-2.81c.8-.78.8-2.07 0-2.86zM5.41 20L4 18.59l7.72-7.72 1.47 1.35L5.41 20z\"/>\n",
              "  </svg>\n",
              "      </button>\n",
              "      \n",
              "  <style>\n",
              "    .colab-df-container {\n",
              "      display:flex;\n",
              "      flex-wrap:wrap;\n",
              "      gap: 12px;\n",
              "    }\n",
              "\n",
              "    .colab-df-convert {\n",
              "      background-color: #E8F0FE;\n",
              "      border: none;\n",
              "      border-radius: 50%;\n",
              "      cursor: pointer;\n",
              "      display: none;\n",
              "      fill: #1967D2;\n",
              "      height: 32px;\n",
              "      padding: 0 0 0 0;\n",
              "      width: 32px;\n",
              "    }\n",
              "\n",
              "    .colab-df-convert:hover {\n",
              "      background-color: #E2EBFA;\n",
              "      box-shadow: 0px 1px 2px rgba(60, 64, 67, 0.3), 0px 1px 3px 1px rgba(60, 64, 67, 0.15);\n",
              "      fill: #174EA6;\n",
              "    }\n",
              "\n",
              "    [theme=dark] .colab-df-convert {\n",
              "      background-color: #3B4455;\n",
              "      fill: #D2E3FC;\n",
              "    }\n",
              "\n",
              "    [theme=dark] .colab-df-convert:hover {\n",
              "      background-color: #434B5C;\n",
              "      box-shadow: 0px 1px 3px 1px rgba(0, 0, 0, 0.15);\n",
              "      filter: drop-shadow(0px 1px 2px rgba(0, 0, 0, 0.3));\n",
              "      fill: #FFFFFF;\n",
              "    }\n",
              "  </style>\n",
              "\n",
              "      <script>\n",
              "        const buttonEl =\n",
              "          document.querySelector('#df-25b25426-1a28-4540-bd6f-0ae329020b8a button.colab-df-convert');\n",
              "        buttonEl.style.display =\n",
              "          google.colab.kernel.accessAllowed ? 'block' : 'none';\n",
              "\n",
              "        async function convertToInteractive(key) {\n",
              "          const element = document.querySelector('#df-25b25426-1a28-4540-bd6f-0ae329020b8a');\n",
              "          const dataTable =\n",
              "            await google.colab.kernel.invokeFunction('convertToInteractive',\n",
              "                                                     [key], {});\n",
              "          if (!dataTable) return;\n",
              "\n",
              "          const docLinkHtml = 'Like what you see? Visit the ' +\n",
              "            '<a target=\"_blank\" href=https://colab.research.google.com/notebooks/data_table.ipynb>data table notebook</a>'\n",
              "            + ' to learn more about interactive tables.';\n",
              "          element.innerHTML = '';\n",
              "          dataTable['output_type'] = 'display_data';\n",
              "          await google.colab.output.renderOutput(dataTable, element);\n",
              "          const docLink = document.createElement('div');\n",
              "          docLink.innerHTML = docLinkHtml;\n",
              "          element.appendChild(docLink);\n",
              "        }\n",
              "      </script>\n",
              "    </div>\n",
              "  </div>\n",
              "  "
            ]
          },
          "metadata": {},
          "execution_count": 15
        }
      ]
    },
    {
      "cell_type": "code",
      "source": [
        "#Corroboramos valores nulos\n",
        "valores_nulos=data1.isnull().sum()\n",
        "valores_nulos"
      ],
      "metadata": {
        "colab": {
          "base_uri": "https://localhost:8080/"
        },
        "id": "ac8Dox_xPnf5",
        "outputId": "cafaa9d3-8fe9-4d2e-c3c5-e6da1b11f911"
      },
      "execution_count": 16,
      "outputs": [
        {
          "output_type": "execute_result",
          "data": {
            "text/plain": [
              "_record_id                                         0\n",
              "_title                                             0\n",
              "_server_updated_at                                 0\n",
              "_updated_by                                        0\n",
              "_geometry                                          0\n",
              "_latitude                                          0\n",
              "_longitude                                         0\n",
              "arrival_of_the_freight_vehicle                     0\n",
              "plates                                             0\n",
              "company_if_visible                                 0\n",
              "visit_purpose                                      0\n",
              "type_of_vehicle                                    0\n",
              "number_of_operators                                0\n",
              "refrigerated_truck                                 0\n",
              "type_of_cargo                                      0\n",
              "picture_of_the_parked_freight_vehicle              0\n",
              "departure_of_the_freight_vehicle                   0\n",
              "where_was_the_vehicle_parked                       0\n",
              "while_parked_was_the_engine_running                0\n",
              "used_traffic_cone                                  0\n",
              "vehicles_unloading_door                            0\n",
              "number_of_available_trolleys                       0\n",
              "serving_customer                                   2\n",
              "garage_blocking                                    0\n",
              "accident                                           0\n",
              "describe_the_accident                              0\n",
              "noise                                              0\n",
              "traffic_congestion                                 0\n",
              "maximum_number_of_vehicles_in_the_traffic_jam    180\n",
              "dtype: int64"
            ]
          },
          "metadata": {},
          "execution_count": 16
        }
      ]
    },
    {
      "cell_type": "code",
      "source": [
        "#Sustituir valores nulos por valore no nulos hacia adelante \"forward fill\" (\"bfill\")\n",
        "#Filtro por columnas\n",
        "data1[\"maximum_number_of_vehicles_in_the_traffic_jam\"]=data1[\"maximum_number_of_vehicles_in_the_traffic_jam\"].fillna(method=\"ffill\")"
      ],
      "metadata": {
        "id": "MDrUpc0tPBYZ"
      },
      "execution_count": 17,
      "outputs": []
    },
    {
      "cell_type": "code",
      "source": [
        "#Corroboramos valores nulos\n",
        "valores_nulos=data1.isnull().sum()\n",
        "valores_nulos"
      ],
      "metadata": {
        "colab": {
          "base_uri": "https://localhost:8080/"
        },
        "id": "CKAy22u6PWz7",
        "outputId": "6e09e8a1-bfc1-4fde-9e06-c03903aae3ca"
      },
      "execution_count": 18,
      "outputs": [
        {
          "output_type": "execute_result",
          "data": {
            "text/plain": [
              "_record_id                                        0\n",
              "_title                                            0\n",
              "_server_updated_at                                0\n",
              "_updated_by                                       0\n",
              "_geometry                                         0\n",
              "_latitude                                         0\n",
              "_longitude                                        0\n",
              "arrival_of_the_freight_vehicle                    0\n",
              "plates                                            0\n",
              "company_if_visible                                0\n",
              "visit_purpose                                     0\n",
              "type_of_vehicle                                   0\n",
              "number_of_operators                               0\n",
              "refrigerated_truck                                0\n",
              "type_of_cargo                                     0\n",
              "picture_of_the_parked_freight_vehicle             0\n",
              "departure_of_the_freight_vehicle                  0\n",
              "where_was_the_vehicle_parked                      0\n",
              "while_parked_was_the_engine_running               0\n",
              "used_traffic_cone                                 0\n",
              "vehicles_unloading_door                           0\n",
              "number_of_available_trolleys                      0\n",
              "serving_customer                                  2\n",
              "garage_blocking                                   0\n",
              "accident                                          0\n",
              "describe_the_accident                             0\n",
              "noise                                             0\n",
              "traffic_congestion                                0\n",
              "maximum_number_of_vehicles_in_the_traffic_jam    22\n",
              "dtype: int64"
            ]
          },
          "metadata": {},
          "execution_count": 18
        }
      ]
    },
    {
      "cell_type": "markdown",
      "source": [
        "Eliminamos los outliersa que tenemos en el df\n",
        "\n"
      ],
      "metadata": {
        "id": "8TeMmTafQVEv"
      }
    },
    {
      "cell_type": "code",
      "source": [
        "#Realizamos diagrama de caja de cada columna del df\n",
        "fig = plt.figure(figsize=(15,8))\n",
        "data1.plot(kind='box', vert=False)\n",
        "plt.title(\"Valores Atípicos del DataFrame\")\n",
        "plt.show() # dibujamos el diagrama"
      ],
      "metadata": {
        "colab": {
          "base_uri": "https://localhost:8080/",
          "height": 353
        },
        "id": "Bga0r1cFQaOn",
        "outputId": "e3bf1643-7609-4d5f-8074-c52e86060339"
      },
      "execution_count": 19,
      "outputs": [
        {
          "output_type": "stream",
          "name": "stderr",
          "text": [
            "/usr/local/lib/python3.7/dist-packages/matplotlib/cbook/__init__.py:1376: VisibleDeprecationWarning: Creating an ndarray from ragged nested sequences (which is a list-or-tuple of lists-or-tuples-or ndarrays with different lengths or shapes) is deprecated. If you meant to do this, you must specify 'dtype=object' when creating the ndarray.\n",
            "  X = np.atleast_1d(X.T if isinstance(X, np.ndarray) else np.asarray(X))\n"
          ]
        },
        {
          "output_type": "display_data",
          "data": {
            "text/plain": [
              "<Figure size 1080x576 with 0 Axes>"
            ]
          },
          "metadata": {}
        },
        {
          "output_type": "display_data",
          "data": {
            "text/plain": [
              "<Figure size 432x288 with 1 Axes>"
            ],
            "image/png": "[encoded data removed]"
          },
          "metadata": {
            "needs_background": "light"
          }
        }
      ]
    },
    {
      "cell_type": "code",
      "source": [
        "data.info()"
      ],
      "metadata": {
        "colab": {
          "base_uri": "https://localhost:8080/"
        },
        "id": "Zc09fQtPQeGf",
        "outputId": "63837ab3-d7fa-4691-8323-18e9ad3c1264"
      },
      "execution_count": 20,
      "outputs": [
        {
          "output_type": "stream",
          "name": "stdout",
          "text": [
            "<class 'pandas.core.frame.DataFrame'>\n",
            "RangeIndex: 182 entries, 0 to 181\n",
            "Data columns (total 29 columns):\n",
            " #   Column                                         Non-Null Count  Dtype  \n",
            "---  ------                                         --------------  -----  \n",
            " 0   _record_id                                     182 non-null    object \n",
            " 1   _title                                         176 non-null    object \n",
            " 2   _server_updated_at                             182 non-null    object \n",
            " 3   _updated_by                                    182 non-null    object \n",
            " 4   _geometry                                      182 non-null    object \n",
            " 5   _latitude                                      182 non-null    float64\n",
            " 6   _longitude                                     182 non-null    float64\n",
            " 7   arrival_of_the_freight_vehicle                 182 non-null    object \n",
            " 8   plates                                         181 non-null    object \n",
            " 9   company_if_visible                             109 non-null    object \n",
            " 10  visit_purpose                                  182 non-null    object \n",
            " 11  type_of_vehicle                                182 non-null    object \n",
            " 12  number_of_operators                            182 non-null    int64  \n",
            " 13  refrigerated_truck                             182 non-null    object \n",
            " 14  type_of_cargo                                  182 non-null    object \n",
            " 15  picture_of_the_parked_freight_vehicle          182 non-null    object \n",
            " 16  departure_of_the_freight_vehicle               182 non-null    object \n",
            " 17  where_was_the_vehicle_parked                   182 non-null    object \n",
            " 18  while_parked_was_the_engine_running            182 non-null    object \n",
            " 19  used_traffic_cone                              182 non-null    object \n",
            " 20  vehicles_unloading_door                        182 non-null    object \n",
            " 21  number_of_available_trolleys                   182 non-null    int64  \n",
            " 22  serving_customer                               35 non-null     float64\n",
            " 23  garage_blocking                                182 non-null    object \n",
            " 24  accident                                       182 non-null    object \n",
            " 25  describe_the_accident                          0 non-null      float64\n",
            " 26  noise                                          182 non-null    object \n",
            " 27  traffic_congestion                             182 non-null    object \n",
            " 28  maximum_number_of_vehicles_in_the_traffic_jam  2 non-null      float64\n",
            "dtypes: float64(5), int64(2), object(22)\n",
            "memory usage: 41.4+ KB\n"
          ]
        }
      ]
    },
    {
      "cell_type": "code",
      "source": [
        "#Aplicamos un filtro por columnas parea seleccionar aquellas que son utiles para el df\n",
        "data2=data1.iloc[: ,[6,12,21,28]]\n",
        "data2"
      ],
      "metadata": {
        "id": "2jJRASdtQqsX"
      },
      "execution_count": null,
      "outputs": []
    },
    {
      "cell_type": "code",
      "source": [
        "#Método aplicando Cuartiles. Encuentro cuartiles 0.25 y 0.75\n",
        "y=data2\n",
        "\n",
        "percentile25=y.quantile(0.25) #Q1\n",
        "percentile75=y.quantile(0.75) #Q2\n",
        "iqr= percentile75 - percentile25\n",
        "\n",
        "Limite_Superior_iqr= percentile75 + 1.5*iqr\n",
        "Limite_Inferior_iqr= percentile25 + 1.5*iqr\n",
        "print(\"Límite superior permitido\", Limite_Superior_iqr)\n",
        "print(\"Límite inferior permitido\", Limite_Inferior_iqr)"
      ],
      "metadata": {
        "id": "FDZVLPdRRMuS"
      },
      "execution_count": null,
      "outputs": []
    },
    {
      "cell_type": "code",
      "source": [
        "#Buscamos los ouliera que tiene nuestro df\n",
        "outlier_iqr= data2[(y>Limite_Superior_iqr)&(y<Limite_Inferior_iqr)]\n",
        "outlier_iqr"
      ],
      "metadata": {
        "id": "kyszjO6fROix"
      },
      "execution_count": null,
      "outputs": []
    },
    {
      "cell_type": "code",
      "source": [
        "#Obtenemos datos limpios para nuestrp df\n",
        "data3_iqr= data2[(y<=Limite_Superior_iqr)&(y>=Limite_Inferior_iqr)]\n",
        "data3_iqr"
      ],
      "metadata": {
        "id": "CdBIfBCWRWGY"
      },
      "execution_count": null,
      "outputs": []
    },
    {
      "cell_type": "code",
      "source": [
        "#Corroboramos valores nulos del dataframe LIMPIO\n",
        "valores_nulos=data3_iqr.isnull().sum()\n",
        "valores_nulos"
      ],
      "metadata": {
        "id": "_UGRCY_MSGP2"
      },
      "execution_count": null,
      "outputs": []
    },
    {
      "cell_type": "code",
      "source": [
        "#Reemplazamos valores atípicos (nulos) del dataframe con \"mean\"\n",
        "#Realizamos una copia del dataframe\n",
        "data4_iqr=data3_iqr.copy()\n",
        "data4_iqr=data4_iqr.fillna(round(data4_iqr.mean(),1))\n",
        "data4_iqr"
      ],
      "metadata": {
        "id": "DYzZ1LyiSTaz"
      },
      "execution_count": null,
      "outputs": []
    },
    {
      "cell_type": "code",
      "source": [
        "#Corroboramos valores nulos del dataframe LIMPIO\n",
        "valores_nulos=data4_iqr.isnull().sum()\n",
        "valores_nulos"
      ],
      "metadata": {
        "id": "TCXMNWsmSXSd"
      },
      "execution_count": null,
      "outputs": []
    },
    {
      "cell_type": "code",
      "source": [
        "#Filtro por columnas para obtener las columnas con datos que nos importan \n",
        "data5=data1.iloc[: ,[0,1,2,3,4,5,6,7,8,9,10,11,13,14,15,16,17,18,19,20,21,22,23,24,25,26,27,28]]\n",
        "data5"
      ],
      "metadata": {
        "id": "47-R0Xf4S5Fa"
      },
      "execution_count": null,
      "outputs": []
    },
    {
      "cell_type": "code",
      "source": [
        "#Unimos las columnas sin outliers con las de los datos cualitativos \n",
        "consumer_mit_laft_lab_LIMPIO = pd.concat([data5,data4_iqr], axis=1)\n",
        "consumer_mit_laft_lab_LIMPIO"
      ],
      "metadata": {
        "id": "tls3xSlxTBJS"
      },
      "execution_count": null,
      "outputs": []
    },
    {
      "cell_type": "code",
      "source": [
        "#Convertir df a csv\n",
        "data.to_csv(\"lastmile_delivery_operations_mit_lift_lab.csv\")"
      ],
      "metadata": {
        "id": "Kjun90hmTIbc"
      },
      "execution_count": 30,
      "outputs": []
    },
    {
      "cell_type": "code",
      "source": [
        "#Descargar archivo filtrado en csv \n",
        "from google.colab import files\n",
        "files.download(\"lastmile_delivery_operations_mit_lift_lab.csv\")"
      ],
      "metadata": {
        "colab": {
          "base_uri": "https://localhost:8080/",
          "height": 17
        },
        "id": "KnV0LdJaTUuc",
        "outputId": "0daba907-d276-4caa-f66f-98b99d1b0705"
      },
      "execution_count": 31,
      "outputs": [
        {
          "output_type": "display_data",
          "data": {
            "text/plain": [
              "<IPython.core.display.Javascript object>"
            ],
            "application/javascript": [
              "\n",
              "    async function download(id, filename, size) {\n",
              "      if (!google.colab.kernel.accessAllowed) {\n",
              "        return;\n",
              "      }\n",
              "      const div = document.createElement('div');\n",
              "      const label = document.createElement('label');\n",
              "      label.textContent = `Downloading \"${filename}\": `;\n",
              "      div.appendChild(label);\n",
              "      const progress = document.createElement('progress');\n",
              "      progress.max = size;\n",
              "      div.appendChild(progress);\n",
              "      document.body.appendChild(div);\n",
              "\n",
              "      const buffers = [];\n",
              "      let downloaded = 0;\n",
              "\n",
              "      const channel = await google.colab.kernel.comms.open(id);\n",
              "      // Send a message to notify the kernel that we're ready.\n",
              "      channel.send({})\n",
              "\n",
              "      for await (const message of channel.messages) {\n",
              "        // Send a message to notify the kernel that we're ready.\n",
              "        channel.send({})\n",
              "        if (message.buffers) {\n",
              "          for (const buffer of message.buffers) {\n",
              "            buffers.push(buffer);\n",
              "            downloaded += buffer.byteLength;\n",
              "            progress.value = downloaded;\n",
              "          }\n",
              "        }\n",
              "      }\n",
              "      const blob = new Blob(buffers, {type: 'application/binary'});\n",
              "      const a = document.createElement('a');\n",
              "      a.href = window.URL.createObjectURL(blob);\n",
              "      a.download = filename;\n",
              "      div.appendChild(a);\n",
              "      a.click();\n",
              "      div.remove();\n",
              "    }\n",
              "  "
            ]
          },
          "metadata": {}
        },
        {
          "output_type": "display_data",
          "data": {
            "text/plain": [
              "<IPython.core.display.Javascript object>"
            ],
            "application/javascript": [
              "download(\"download_141bf0bb-0fd0-424f-9e99-083d29ad0ee7\", \"lastmile_delivery_operations_mit_lift_lab.csv\", 84776)"
            ]
          },
          "metadata": {}
        }
      ]
    }
  ]
}